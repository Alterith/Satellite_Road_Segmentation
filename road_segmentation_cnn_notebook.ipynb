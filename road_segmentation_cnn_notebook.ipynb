{
 "cells": [
  {
   "cell_type": "markdown",
   "metadata": {},
   "source": [
    "# Imports"
   ]
  },
  {
   "cell_type": "code",
   "execution_count": 2,
   "metadata": {},
   "outputs": [],
   "source": [
    "#Imports\n",
    "import random\n",
    "import os\n",
    "import numpy as np\n",
    "import torch\n",
    "from matplotlib import pyplot as plt\n",
    "import pickle\n",
    "import cv2\n",
    "\n",
    "import torch.nn as nn\n",
    "import torch.nn.functional as F\n",
    "\n",
    "from sklearn.metrics import confusion_matrix\n",
    "\n",
    "from PIL import Image\n",
    "from torch.utils.data import Dataset, DataLoader\n",
    "from torch import autograd\n",
    "from torch.autograd import Variable\n",
    "from torch.utils.data import Sampler\n",
    "import torchvision.transforms.functional as TF\n",
    "from torchvision import transforms, utils"
   ]
  },
  {
   "cell_type": "markdown",
   "metadata": {},
   "source": [
    "# Dataset creation"
   ]
  },
  {
   "cell_type": "code",
   "execution_count": 3,
   "metadata": {},
   "outputs": [],
   "source": [
    "class MASS_Roads_Dataset(Dataset):\n",
    "    def __init__(self, data_dir, split):\n",
    "        #store filenames\n",
    "        self.filenames = os.listdir(os.path.join(data_dir, \"sat\"))\n",
    "        self.filenames = sorted(self.filenames)\n",
    "        #store file path\n",
    "        self.filenames = [os.path.join(os.path.join(data_dir, \"sat\"), f) for f in self.filenames]\n",
    "        \n",
    "        #store labels (maps)\n",
    "        self.labels = os.listdir(os.path.join(data_dir, \"map\"))\n",
    "        self.labels = sorted(self.labels)\n",
    "        #store label path\n",
    "        self.labels = [os.path.join(os.path.join(data_dir, \"map\"), l) for l in self.labels]\n",
    "        self.split = split\n",
    "        \n",
    "        #self.rand_img = [random.randint(0,1079: 94 %) for _ in range(131072)]\n",
    "        \n",
    "    #data augnemtation transforms\n",
    "    def transform(self, image, mask):\n",
    "\n",
    "        # Random horizontal flipping\n",
    "        if random.random() > 0.5:\n",
    "            image = TF.hflip(image)\n",
    "            mask = TF.hflip(mask)\n",
    "\n",
    "        # Random vertical flipping\n",
    "        if random.random() > 0.5:\n",
    "            image = TF.vflip(image)\n",
    "            mask = TF.vflip(mask)\n",
    "        \n",
    "        #perform center crop of image\n",
    "        mask = TF.center_crop(mask, 16)\n",
    "        \n",
    "        # Transform to tensor\n",
    "        image = TF.to_tensor(image)\n",
    "        mask = TF.to_tensor(mask)\n",
    "        #print(mask.shape)\n",
    "        #mask = mask.view(1,256)\n",
    "        mask = mask.view(256)\n",
    "        \n",
    "        return image, mask\n",
    "    \n",
    "    def __len__(self):\n",
    "        #return size of dataset\n",
    "        self.rand_img = [random.randint(0,1079) for _ in range(131072)]\n",
    "        return len(self.filenames)\n",
    "    \n",
    "    def valid_patch_road(self, np_label_patch, not_valid_road_count):\n",
    "\n",
    "        im = Image.fromarray(np_label_patch)\n",
    "\n",
    "        white = 0\n",
    "\n",
    "        for pixel in im.getdata():\n",
    "            if pixel == (255): # check if road\n",
    "                white += 1\n",
    "        #print(white)     \n",
    "        if(white==0):\n",
    "            not_valid_road_count += 1\n",
    "            return False, not_valid_road_count\n",
    "        else:\n",
    "            return True, not_valid_road_count\n",
    "\n",
    "    def valid_patch_img(self, np_img_patch, np_label_patch, not_valid_road_count, not_valid_patch):\n",
    "        \n",
    "        #if we cant find a patch after searching 30 times take any patch\n",
    "        if(not_valid_patch>30):\n",
    "            return True, not_valid_road_count, not_valid_patch\n",
    "\n",
    "        im = Image.fromarray(np_img_patch)\n",
    "\n",
    "        white = 0\n",
    "        size = ((np_img_patch.size)*3/4)/3 # if white pixels are greater than 3 quarters of image. Div by 3 because of 3 channels\n",
    "\n",
    "        for pixel in im.getdata():\n",
    "            if pixel == (255, 255, 255): # if all 3 channels only have 1 pixel\n",
    "                white += 1\n",
    "        #if 10 searchers yeild no result\n",
    "        if(not_valid_road_count<10):\n",
    "            valid_road, not_valid_road_count = self.valid_patch_road(np_label_patch, not_valid_road_count)\n",
    "            #print(not_valid_road_count)\n",
    "            if(not valid_road):\n",
    "                return False, not_valid_road_count, not_valid_patch\n",
    "\n",
    "        if(white>size):\n",
    "            not_valid_patch += 1\n",
    "            return False, not_valid_road_count, not_valid_patch\n",
    "        else:\n",
    "            return True, not_valid_road_count, not_valid_patch\n",
    "\n",
    "    def patch_selection(self, img, label, pixel_bound):\n",
    "        # takes in image and label pil images\n",
    "        x, y = random.randint(0, pixel_bound), random.randint(0, pixel_bound)\n",
    "        \n",
    "        img_numpy = np.array(img)\n",
    "        label_numpy = np.array(label)\n",
    "        #extract patch\n",
    "        img_patch = img_numpy[x:x+64,y:y+64,:]\n",
    "        label_patch = label_numpy[x:x+64,y:y+64]\n",
    "        #stop searching for road if too many miss\n",
    "        not_valid_road_count = 0\n",
    "        not_valid_patch = 0\n",
    "        valid_patch, not_valid_road_count, not_valid_patch = self.valid_patch_img(img_patch, label_patch, not_valid_road_count, not_valid_patch)\n",
    "        #check if paych is valid\n",
    "        while(not valid_patch):\n",
    "            x, y = random.randint(0, pixel_bound), random.randint(0, pixel_bound)\n",
    "            \n",
    "            img_patch = img_numpy[x:x+64,y:y+64,:]\n",
    "            label_patch = label_numpy[x:x+64,y:y+64]\n",
    "            \n",
    "            valid_patch, not_valid_road_count, not_valid_patch = self.valid_patch_img(img_patch, label_patch, not_valid_road_count, not_valid_patch)\n",
    "        #image_numpy = None\n",
    "        return Image.fromarray(img_patch), Image.fromarray(label_patch)\n",
    "    \n",
    "    def __getitem__(self, idx):\n",
    "        #open an image, apply transform to the image and the map, return image with map\n",
    "        #random_idx = self.rand_img[idx]\n",
    "        image = Image.open(self.filenames[idx])\n",
    "        label = Image.open(self.labels[idx]) #maps\n",
    "        \n",
    "        if(self.split == \"train\"):\n",
    "            image, label = self.patch_selection(image, label, 1434)\n",
    "            image, label = self.transform(image, label)\n",
    "        else:\n",
    "            image = TF.to_tensor(image)\n",
    "            label2 = TF.to_tensor(label) \n",
    "            image = image*(1-label2)\n",
    "            label = TF.center_crop(label, 16)\n",
    "            label = TF.to_tensor(label)\n",
    "            label = label.view(256)\n",
    "        return image, label, str(str(str(self.filenames[idx]).split('/')[-1]).split('.')[0])"
   ]
  },
  {
   "cell_type": "markdown",
   "metadata": {},
   "source": [
    "# Dataloader declaration"
   ]
  },
  {
   "cell_type": "code",
   "execution_count": 4,
   "metadata": {},
   "outputs": [],
   "source": [
    "def fetch_dataloader(types, data_dir, params):\n",
    "    \"\"\"\n",
    "    Fetches the DataLoader object for each type in types from data_dir.\n",
    "    Args:\n",
    "        types: (list) has one or more of 'train', 'val', 'test' depending on which data is required\n",
    "        data_dir: (string) directory containing the dataset\n",
    "        params: (Params) hyperparameters\n",
    "    Returns:\n",
    "        data: (dict) contains the DataLoader object for each type in types\n",
    "    \"\"\"\n",
    "    dataloaders = {}\n",
    "\n",
    "    for split in ['train', 'valid_split', 'test_split']:\n",
    "        if split in types:\n",
    "            path = os.path.join(data_dir, split)\n",
    "\n",
    "            # use the train_transformer if training data, else use eval_transformer without random flip\n",
    "            if split == 'train':\n",
    "                \n",
    "                mass_roads_dataset = MASS_Roads_Dataset(path, split)\n",
    "                \n",
    "                dl = DataLoader(mass_roads_dataset, batch_size=params['batch_size'], shuffle=True,\n",
    "                                        num_workers=params['num_workers'],\n",
    "                                        pin_memory=params['cuda'])\n",
    "            else:\n",
    "                dl = DataLoader(MASS_Roads_Dataset(path, split), batch_size=params['batch_size'], shuffle=True,\n",
    "                                num_workers=params['num_workers'],\n",
    "                                pin_memory=params['cuda'])\n",
    "\n",
    "            dataloaders[split] = dl\n",
    "    return dataloaders"
   ]
  },
  {
   "cell_type": "markdown",
   "metadata": {},
   "source": [
    "# Hyper parms"
   ]
  },
  {
   "cell_type": "code",
   "execution_count": 5,
   "metadata": {},
   "outputs": [
    {
     "data": {
      "text/plain": [
       "True"
      ]
     },
     "execution_count": 5,
     "metadata": {},
     "output_type": "execute_result"
    }
   ],
   "source": [
    "torch.cuda.is_available()"
   ]
  },
  {
   "cell_type": "code",
   "execution_count": 6,
   "metadata": {},
   "outputs": [],
   "source": [
    "params = {\n",
    "    \"batch_size\": 128,\n",
    "    \"num_workers\": 6,\n",
    "}\n",
    "\n",
    "# use GPU if available\n",
    "params[\"cuda\"] = torch.cuda.is_available()\n",
    "\n",
    "# Set the random seed for reproducible experiments\n",
    "#torch.manual_seed(230)\n",
    "#if params['cuda']: torch.cuda.manual_seed(230)\n",
    "    \n",
    "dataloaders = fetch_dataloader(['train'], \"../data/mass_roads\", params)\n",
    "train_dl = dataloaders['train']\n"
   ]
  },
  {
   "cell_type": "code",
   "execution_count": 7,
   "metadata": {},
   "outputs": [
    {
     "name": "stdout",
     "output_type": "stream",
     "text": [
      "{'batch_size': 128, 'num_workers': 6, 'cuda': True}\n"
     ]
    }
   ],
   "source": [
    "print(params)"
   ]
  },
  {
   "cell_type": "code",
   "execution_count": 8,
   "metadata": {},
   "outputs": [
    {
     "name": "stdout",
     "output_type": "stream",
     "text": [
      "1108\n"
     ]
    }
   ],
   "source": [
    "train_dl\n",
    "print(len(train_dl.dataset))"
   ]
  },
  {
   "cell_type": "markdown",
   "metadata": {},
   "source": [
    "# Mnih Architecture"
   ]
  },
  {
   "cell_type": "code",
   "execution_count": 9,
   "metadata": {},
   "outputs": [],
   "source": [
    "class mnih_nn(nn.Module):\n",
    "    \n",
    "    def __init__(self):\n",
    "        super(mnih_nn, self).__init__()\n",
    "        # 3 input image channel,  output channels, 5x5 square convolution\n",
    "        # kernel\n",
    "        self.conv1 = nn.Conv2d(3, 64, 16, stride=4, bias = False)\n",
    "        nn.init.xavier_uniform_(self.conv1.weight)\n",
    "        #self.mp1 = nn.MaxPool2d(2)\n",
    "        self.conv2 = nn.Conv2d(64, 112, 4, stride=1, bias = False)\n",
    "        nn.init.xavier_uniform_(self.conv2.weight)\n",
    "        self.conv3 = nn.Conv2d(112, 80, 3, stride=1, bias = False)\n",
    "        nn.init.xavier_uniform_(self.conv3.weight)\n",
    "        #self.conv4 = nn.Conv2d(80, 1, kernel_size = 1)\n",
    "        # an affine operation: y = Wx + b\n",
    "        self.fc4 = nn.Linear(5120, 4096, bias = False)\n",
    "        nn.init.xavier_uniform_(self.fc4.weight)\n",
    "        self.fc5 = nn.Linear(4096, 256, bias = False)\n",
    "        nn.init.xavier_uniform_(self.fc5.weight)\n",
    "\n",
    "    def forward(self, x):\n",
    "        in_size = x.size(0)\n",
    "        #print(x.shape, 'Input')\n",
    "        #h = F.relu(self.mp1(self.conv1(x)))\n",
    "        h = F.relu(self.conv1(x))\n",
    "        #print(h.shape, 'Conv1')\n",
    "        h = F.relu(self.conv2(h))\n",
    "        #print(h.shape, 'Conv2')\n",
    "        h = F.relu(self.conv3(h))\n",
    "        #print(h.shape, 'Conv3')\n",
    "        #h = F.relu(self.conv4(h))\n",
    "        #print(h.shape, 'Conv4')\n",
    "        h = h.view(-1, 5120)\n",
    "        #print(h.shape, 'Reshape Voodoo')\n",
    "        # If the size is a square you can only specify a single number\n",
    "        h = F.dropout(F.relu(self.fc4(h)), training=False)\n",
    "        #print(h.shape, 'Linear1')\n",
    "        h = self.fc5(h)\n",
    "        #print(h.shape, 'Linear2')\n",
    "        #print(x.data.shape[0])\n",
    "        #self.pred = F.reshape(h, (x.data.shape[0], 16, 16))\n",
    "        self.pred = h.reshape(h.size(0), -1)\n",
    "        self.pred = torch.sigmoid(self.pred)\n",
    "        return self.pred"
   ]
  },
  {
   "cell_type": "code",
   "execution_count": 10,
   "metadata": {},
   "outputs": [],
   "source": [
    "def weighted_binary_cross_entropy(output, target, weights=None):\n",
    "    output = torch.clamp(output, min=1e-7, max = 1-1e-7)\n",
    "        \n",
    "    if weights is not None:\n",
    "        assert len(weights) == 2\n",
    "        \n",
    "        log_1 = torch.log(output)\n",
    "        #log_1[log_1 != log_1] = 0\n",
    "        log_0 = torch.log(1 - output)\n",
    "        #log_0[log_0 != log_0] = 0\n",
    "        loss = weights[1] * (target * log_1) + \\\n",
    "               weights[0] * ((1 - target) * log_0)\n",
    "    else:\n",
    "        log_1 = torch.log(output)\n",
    "        #log_1[log_1 != log_1] = 0\n",
    "        log_0 = torch.log(1 - output)\n",
    "        #log_0[log_0 != log_0] = 0\n",
    "        \n",
    "        loss = target * log_1 + (1 - target) * log_0\n",
    "\n",
    "    return torch.neg(torch.mean(loss))"
   ]
  },
  {
   "cell_type": "code",
   "execution_count": null,
   "metadata": {},
   "outputs": [],
   "source": [
    "mnih_model = mnih_nn()\n",
    "mnih_model.cuda()\n",
    "optimizer = torch.optim.SGD(mnih_model.parameters(), lr = 0.001, momentum=0.9, weight_decay=0.001)"
   ]
  },
  {
   "cell_type": "markdown",
   "metadata": {},
   "source": [
    "# Training loop"
   ]
  },
  {
   "cell_type": "code",
   "execution_count": null,
   "metadata": {},
   "outputs": [],
   "source": [
    "mnih_model = torch.load('model_epoch_54.pt')"
   ]
  },
  {
   "cell_type": "code",
   "execution_count": null,
   "metadata": {
    "scrolled": true
   },
   "outputs": [],
   "source": [
    "for epoch in range(0,45):\n",
    "    #print(epoch)\n",
    "    running_loss = 0.0\n",
    "    for i, data in enumerate(train_dl, 0):\n",
    "        \n",
    "        #get inputs\n",
    "        inputs, masks = data\n",
    "        #print(\"Iteration:\", i,\" inputs: \", inputs.data.shape, \"masks:\", masks.data.shape)\n",
    "        \n",
    "        #wrap them in a variable\n",
    "        inputs, masks = Variable(inputs).cuda(), (Variable(masks).cuda())\n",
    "        \n",
    "        #forward pass\n",
    "        mask_pred = mnih_model(inputs)\n",
    "        \n",
    "        #compute and print loss\n",
    "        loss = weighted_binary_cross_entropy(mask_pred, masks, weights = torch.Tensor([1, 1]).cuda()).cuda()\n",
    "        optimizer.zero_grad()\n",
    "        loss.backward()\n",
    "        optimizer.step()\n",
    "        \n",
    "        # print statistics\n",
    "        running_loss += loss.item()\n",
    "        if i % 1023 == 0 and i > 0:    # print every 200 mini-batches\n",
    "            #print(epoch, i, loss.item())\n",
    "            print('[%d, %5d] loss: %.6f' %(epoch, i, running_loss / 1024))\n",
    "            running_loss = 0.0\n",
    "            \n",
    "    if((epoch+1)%5 == 0 and i>0):\n",
    "        print(\"saving weights\")\n",
    "        torch.save(mnih_model, \"model_epoch_\"+str(epoch+55)+\".pt\")\n",
    "        #pickle.dump(test_model, open(\"model_epoch_\"+str(i)+\".pkl\", \"wb\"))\n",
    "\n",
    "print('Finished Training')\n"
   ]
  },
  {
   "cell_type": "code",
   "execution_count": null,
   "metadata": {},
   "outputs": [],
   "source": [
    "torch.save(mnih_model, '100_100000.pt')\n",
    "#model = torch.load('filename.pt')"
   ]
  },
  {
   "cell_type": "code",
   "execution_count": null,
   "metadata": {},
   "outputs": [],
   "source": [
    "# Started training on sunday 10:41\n",
    "# ended at approx 0.234.... loss"
   ]
  },
  {
   "cell_type": "markdown",
   "metadata": {},
   "source": [
    "# Testing Segment"
   ]
  },
  {
   "cell_type": "code",
   "execution_count": null,
   "metadata": {},
   "outputs": [],
   "source": [
    "mnih_model = torch.load('model_epoch_54.pt')"
   ]
  },
  {
   "cell_type": "code",
   "execution_count": null,
   "metadata": {},
   "outputs": [],
   "source": []
  },
  {
   "cell_type": "markdown",
   "metadata": {},
   "source": [
    "# Accuracy"
   ]
  },
  {
   "cell_type": "code",
   "execution_count": 11,
   "metadata": {},
   "outputs": [
    {
     "name": "stdout",
     "output_type": "stream",
     "text": [
      "396900\n"
     ]
    }
   ],
   "source": [
    "#fix test data loading\n",
    "mnih_model = torch.load('model_epoch_99.pt')\n",
    "dataloaders = fetch_dataloader(['test_split'], \"../data/mass_roads\", params)\n",
    "testloader = dataloaders['test_split']\n",
    "print(len(testloader.dataset))"
   ]
  },
  {
   "cell_type": "code",
   "execution_count": 78,
   "metadata": {
    "scrolled": false
   },
   "outputs": [
    {
     "name": "stdout",
     "output_type": "stream",
     "text": [
      "Iteration: 0  inputs:  torch.Size([128, 3, 64, 64]) masks: torch.Size([128, 256])\n",
      "20278885_15_6404\n"
     ]
    },
    {
     "data": {
      "image/png": "[encoded data removed]",
      "text/plain": [
       "<Figure size 360x360 with 2 Axes>"
      ]
     },
     "metadata": {
      "needs_background": "light"
     },
     "output_type": "display_data"
    },
    {
     "data": {
      "image/png": "[encoded data removed]",
      "text/plain": [
       "<Figure size 432x288 with 1 Axes>"
      ]
     },
     "metadata": {
      "needs_background": "light"
     },
     "output_type": "display_data"
    },
    {
     "name": "stdout",
     "output_type": "stream",
     "text": [
      "Iteration: 0  inputs:  torch.Size([128, 3, 64, 64]) masks: torch.Size([128, 256])\n",
      "10378780_15_4362\n"
     ]
    },
    {
     "data": {
      "image/png": "[encoded data removed]",
      "text/plain": [
       "<Figure size 360x360 with 2 Axes>"
      ]
     },
     "metadata": {
      "needs_background": "light"
     },
     "output_type": "display_data"
    },
    {
     "data": {
      "image/png": "[encoded data removed]",
      "text/plain": [
       "<Figure size 432x288 with 1 Axes>"
      ]
     },
     "metadata": {
      "needs_background": "light"
     },
     "output_type": "display_data"
    },
    {
     "name": "stdout",
     "output_type": "stream",
     "text": [
      "Iteration: 0  inputs:  torch.Size([128, 3, 64, 64]) masks: torch.Size([128, 256])\n",
      "20728960_15_3472\n"
     ]
    },
    {
     "data": {
      "image/png": "[encoded data removed]",
      "text/plain": [
       "<Figure size 360x360 with 2 Axes>"
      ]
     },
     "metadata": {
      "needs_background": "light"
     },
     "output_type": "display_data"
    },
    {
     "data": {
      "image/png": "[encoded data removed]",
      "text/plain": [
       "<Figure size 432x288 with 1 Axes>"
      ]
     },
     "metadata": {
      "needs_background": "light"
     },
     "output_type": "display_data"
    },
    {
     "name": "stdout",
     "output_type": "stream",
     "text": [
      "Iteration: 0  inputs:  torch.Size([128, 3, 64, 64]) masks: torch.Size([128, 256])\n",
      "20278885_15_1765\n"
     ]
    },
    {
     "data": {
      "image/png": "[encoded data removed]",
      "text/plain": [
       "<Figure size 360x360 with 2 Axes>"
      ]
     },
     "metadata": {
      "needs_background": "light"
     },
     "output_type": "display_data"
    },
    {
     "data": {
      "image/png": "[encoded data removed]",
      "text/plain": [
       "<Figure size 432x288 with 1 Axes>"
      ]
     },
     "metadata": {
      "needs_background": "light"
     },
     "output_type": "display_data"
    },
    {
     "name": "stdout",
     "output_type": "stream",
     "text": [
      "Iteration: 0  inputs:  torch.Size([128, 3, 64, 64]) masks: torch.Size([128, 256])\n",
      "18478930_15_244\n"
     ]
    },
    {
     "data": {
      "image/png": "[encoded data removed]",
      "text/plain": [
       "<Figure size 360x360 with 2 Axes>"
      ]
     },
     "metadata": {
      "needs_background": "light"
     },
     "output_type": "display_data"
    },
    {
     "data": {
      "image/png": "[encoded data removed]",
      "text/plain": [
       "<Figure size 432x288 with 1 Axes>"
      ]
     },
     "metadata": {
      "needs_background": "light"
     },
     "output_type": "display_data"
    },
    {
     "name": "stdout",
     "output_type": "stream",
     "text": [
      "Iteration: 0  inputs:  torch.Size([128, 3, 64, 64]) masks: torch.Size([128, 256])\n",
      "20728960_15_6215\n"
     ]
    },
    {
     "data": {
      "image/png": "[encoded data removed]",
      "text/plain": [
       "<Figure size 360x360 with 2 Axes>"
      ]
     },
     "metadata": {
      "needs_background": "light"
     },
     "output_type": "display_data"
    },
    {
     "data": {
      "image/png": "[encoded data removed]",
      "text/plain": [
       "<Figure size 432x288 with 1 Axes>"
      ]
     },
     "metadata": {
      "needs_background": "light"
     },
     "output_type": "display_data"
    },
    {
     "name": "stdout",
     "output_type": "stream",
     "text": [
      "Iteration: 0  inputs:  torch.Size([128, 3, 64, 64]) masks: torch.Size([128, 256])\n",
      "22229050_15_3658\n"
     ]
    },
    {
     "data": {
      "image/png": "[encoded data removed]",
      "text/plain": [
       "<Figure size 360x360 with 2 Axes>"
      ]
     },
     "metadata": {
      "needs_background": "light"
     },
     "output_type": "display_data"
    },
    {
     "data": {
      "image/png": "[encoded data removed]",
      "text/plain": [
       "<Figure size 432x288 with 1 Axes>"
      ]
     },
     "metadata": {
      "needs_background": "light"
     },
     "output_type": "display_data"
    },
    {
     "name": "stdout",
     "output_type": "stream",
     "text": [
      "Iteration: 0  inputs:  torch.Size([128, 3, 64, 64]) masks: torch.Size([128, 256])\n",
      "23878540_15_1438\n"
     ]
    },
    {
     "data": {
      "image/png": "[encoded data removed]",
      "text/plain": [
       "<Figure size 360x360 with 2 Axes>"
      ]
     },
     "metadata": {
      "needs_background": "light"
     },
     "output_type": "display_data"
    },
    {
     "data": {
      "image/png": "[encoded data removed]",
      "text/plain": [
       "<Figure size 432x288 with 1 Axes>"
      ]
     },
     "metadata": {
      "needs_background": "light"
     },
     "output_type": "display_data"
    },
    {
     "name": "stdout",
     "output_type": "stream",
     "text": [
      "Iteration: 0  inputs:  torch.Size([128, 3, 64, 64]) masks: torch.Size([128, 256])\n",
      "23428540_15_6072\n"
     ]
    },
    {
     "data": {
      "image/png": "[encoded data removed]",
      "text/plain": [
       "<Figure size 360x360 with 2 Axes>"
      ]
     },
     "metadata": {
      "needs_background": "light"
     },
     "output_type": "display_data"
    },
    {
     "data": {
      "image/png": "[encoded data removed]",
      "text/plain": [
       "<Figure size 432x288 with 1 Axes>"
      ]
     },
     "metadata": {
      "needs_background": "light"
     },
     "output_type": "display_data"
    },
    {
     "name": "stdout",
     "output_type": "stream",
     "text": [
      "Iteration: 0  inputs:  torch.Size([128, 3, 64, 64]) masks: torch.Size([128, 256])\n",
      "16078870_15_3982\n"
     ]
    },
    {
     "data": {
      "image/png": "[encoded data removed]",
      "text/plain": [
       "<Figure size 360x360 with 2 Axes>"
      ]
     },
     "metadata": {
      "needs_background": "light"
     },
     "output_type": "display_data"
    },
    {
     "data": {
      "image/png": "[encoded data removed]",
      "text/plain": [
       "<Figure size 432x288 with 1 Axes>"
      ]
     },
     "metadata": {
      "needs_background": "light"
     },
     "output_type": "display_data"
    }
   ],
   "source": [
    "for k in range(10):\n",
    "    for i, data in enumerate(testloader, 0):\n",
    "        #print(i)\n",
    "        if i>0:\n",
    "                break\n",
    "\n",
    "        #get inputs\n",
    "        inputs, masks, names = data\n",
    "        print(\"Iteration:\", i,\" inputs: \", inputs.data.shape, \"masks:\", masks.data.shape)\n",
    "        inputs, masks = Variable(inputs).cuda(), Variable(masks).long().cuda()\n",
    "        #print(inputs.shape)\n",
    "        #print(\"Iteration:\", i,\" inputs: \", inputs.data.shape, \"masks:\", masks.data.shape)\n",
    "        mask_pred = mnih_model(inputs)\n",
    "        #mask_pred[mask_pred>=0.5] = 1\n",
    "        #mask_pred[mask_pred<0.5] = 0\n",
    "        #print(\"Iteration:\", i, \" mask_pred:\", mask_pred.data.shape)\n",
    "        thresh = Variable(torch.Tensor([0.79])).cuda()\n",
    "        mask_pred = (mask_pred >= thresh).float()*1\n",
    "        mask_pred = mask_pred.view(128,16,16)\n",
    "        masks = masks.view(128,16,16)\n",
    "        \n",
    "        inputs0 = inputs[:,0]\n",
    "        inputs1 = inputs[:,1]\n",
    "        inputs2 = inputs[:,2]\n",
    "        inputs2 = torch.stack([inputs0, inputs1, inputs2], dim=3)\n",
    "        #print(\"Iteration:\", i,\" inputs2: \", inputs2.data.shape, \"masks:\", masks.data.shape)\n",
    "        #print(\"Iteration:\", i, \" mask_pred:\", mask_pred.data.shape, \"masks:\", masks.data.shape)\n",
    "        center_image = inputs2[15].cpu().detach().numpy()\n",
    "        center_image = center_image[24:(24+16),24:(24+16)]\n",
    "        \n",
    "        print(names[15])\n",
    "\n",
    "        plt.figure(k, figsize=(5,5))\n",
    "        plt.subplot(1,3,1)\n",
    "        plt.title('Pred_'+str(k))\n",
    "        plt.imshow(mask_pred[15].cpu().detach().numpy())\n",
    "        plt.subplot(1,3,2)\n",
    "        plt.title('True_'+str(k))\n",
    "        plt.imshow(masks[15].cpu().detach().numpy())\n",
    "        plt.show()\n",
    "        plt.subplot(1,3,3)\n",
    "        plt.title('Image_'+str(k))\n",
    "        plt.imshow(center_image)\n",
    "        plt.show()"
   ]
  },
  {
   "cell_type": "code",
   "execution_count": null,
   "metadata": {},
   "outputs": [],
   "source": [
    "total_road = np.asscalar(total_road.cpu().numpy())"
   ]
  },
  {
   "cell_type": "code",
   "execution_count": null,
   "metadata": {},
   "outputs": [],
   "source": [
    "print('The total ratio of road pixels is: %d %%' % (\n",
    "    100 * total_road / total))"
   ]
  },
  {
   "cell_type": "code",
   "execution_count": 13,
   "metadata": {},
   "outputs": [
    {
     "name": "stdout",
     "output_type": "stream",
     "text": [
      "Accuracy of the network on the 396900  test images: 89 %\n",
      "Threshold: 0.5\n",
      "[[86187122. 10654329.]\n",
      " [  320814.  4444135.]]\n",
      "\n",
      "\n"
     ]
    }
   ],
   "source": [
    "#thresh = np.linspace(0.0, 1.0, num=19)\n",
    "#best results on 0.65\n",
    "thresh = np.array([0.5])\n",
    "for k in range(0, len(thresh)):\n",
    "    correct = 0\n",
    "    total = 0\n",
    "    total_road = 0\n",
    "    conf_matrix = np.zeros([2,2])\n",
    "    with torch.no_grad():\n",
    "        mnih_model = torch.load('model_epoch_89.pt')\n",
    "        mnih_model = mnih_model.cuda()\n",
    "        for i, data in enumerate(testloader, 0):\n",
    "            inputs, labels, names = data\n",
    "            inputs, labels = Variable(inputs).cuda(), Variable(labels).float().cuda()\n",
    "            outputs = mnih_model(inputs)\n",
    "            t = torch.Tensor([thresh[k]]).cuda()  # threshold\n",
    "            outputs = (outputs > t).float() * 1\n",
    "            #print(\"inputs: \", inputs.data.shape, \" masks:\", labels.data.shape, \" outputs:\", outputs.data.shape)\n",
    "            labels = labels.view(-1,256)\n",
    "            #print(\"inputs: \", inputs.data.shape, \" masks:\", labels.data.shape, \" outputs:\", outputs.data.shape)\n",
    "            total_road += torch.sum(labels)\n",
    "            conf_matrix += confusion_matrix(labels.cpu().numpy().reshape(-1), outputs.cpu().numpy().reshape(-1))\n",
    "            diff = (labels - outputs).cpu().numpy()\n",
    "            correct += np.count_nonzero(diff==0)\n",
    "            total += diff.size\n",
    "            #save images\n",
    "            outputs = outputs.view(-1,16,16)\n",
    "            outputs = outputs.cpu().numpy()\n",
    "            for num_images in range(0,outputs.shape[0]):\n",
    "                #im = Image.fromarray(outputs[num_images], mode='L') # RGB\n",
    "                #im.save(\"../data/mass_roads/\"+\"test_split_pred/\"+str(names[num_images])+\".tiff\", \"TIFF\")\n",
    "                cv2.imwrite(\"../data/mass_roads/\"+\"test_split_pred/\"+str(names[num_images])+\".png\", outputs[num_images])\n",
    "\n",
    "    print('Accuracy of the network on the 396900  test images: %d %%' % (\n",
    "        100 * correct / total))\n",
    "    print(\"Threshold: \" + str(thresh[k]))\n",
    "    print(conf_matrix)\n",
    "    print(\"\\n\")"
   ]
  },
  {
   "cell_type": "code",
   "execution_count": 14,
   "metadata": {},
   "outputs": [
    {
     "name": "stdout",
     "output_type": "stream",
     "text": [
      "tensor(4764949., device='cuda:0')\n"
     ]
    }
   ],
   "source": [
    "print(total_road)"
   ]
  },
  {
   "cell_type": "code",
   "execution_count": null,
   "metadata": {},
   "outputs": [],
   "source": [
    "3550430/(93291021+3550430)"
   ]
  },
  {
   "cell_type": "code",
   "execution_count": null,
   "metadata": {},
   "outputs": [],
   "source": [
    "10599984./(86241467.+10599984.)"
   ]
  },
  {
   "cell_type": "code",
   "execution_count": null,
   "metadata": {},
   "outputs": [],
   "source": [
    "1372869./(1372869. + 3392080.)"
   ]
  },
  {
   "cell_type": "code",
   "execution_count": null,
   "metadata": {},
   "outputs": [],
   "source": [
    "100-29"
   ]
  },
  {
   "cell_type": "code",
   "execution_count": 15,
   "metadata": {},
   "outputs": [
    {
     "data": {
      "text/plain": [
       "4764949.0"
      ]
     },
     "execution_count": 15,
     "metadata": {},
     "output_type": "execute_result"
    }
   ],
   "source": [
    "3797513. +  967436."
   ]
  },
  {
   "cell_type": "code",
   "execution_count": 25,
   "metadata": {},
   "outputs": [],
   "source": [
    "test = torch.tensor([[0,1,1,0],[0,1,0,1]])"
   ]
  },
  {
   "cell_type": "code",
   "execution_count": 26,
   "metadata": {},
   "outputs": [
    {
     "data": {
      "text/plain": [
       "4"
      ]
     },
     "execution_count": 26,
     "metadata": {},
     "output_type": "execute_result"
    }
   ],
   "source": [
    "torch.nonzero(test).size(0)"
   ]
  },
  {
   "cell_type": "code",
   "execution_count": 30,
   "metadata": {},
   "outputs": [
    {
     "data": {
      "text/plain": [
       "2"
      ]
     },
     "execution_count": 30,
     "metadata": {},
     "output_type": "execute_result"
    }
   ],
   "source": [
    "len(test)"
   ]
  },
  {
   "cell_type": "code",
   "execution_count": 16,
   "metadata": {},
   "outputs": [
    {
     "name": "stdout",
     "output_type": "stream",
     "text": [
      "Accuracy of the network on the 396900  test images: 95 %\n",
      "Threshold: 0.78\n",
      "[[93722397.  3119054.]\n",
      " [ 1638902.  3126047.]]\n",
      "\n",
      "\n",
      "Accuracy of the network on the 396900  test images: 95 %\n",
      "Threshold: 0.7825\n",
      "[[93769548.  3071903.]\n",
      " [ 1663988.  3100961.]]\n",
      "\n",
      "\n",
      "Accuracy of the network on the 396900  test images: 95 %\n",
      "Threshold: 0.785\n",
      "[[93816983.  3024468.]\n",
      " [ 1689102.  3075847.]]\n",
      "\n",
      "\n",
      "Accuracy of the network on the 396900  test images: 95 %\n",
      "Threshold: 0.7875000000000001\n",
      "[[93863569.  2977882.]\n",
      " [ 1714430.  3050519.]]\n",
      "\n",
      "\n",
      "Accuracy of the network on the 396900  test images: 95 %\n",
      "Threshold: 0.79\n",
      "[[93910016.  2931435.]\n",
      " [ 1740413.  3024536.]]\n",
      "\n",
      "\n"
     ]
    }
   ],
   "source": [
    "thresh = np.linspace(0.78, 0.79, num=5)\n",
    "for k in range(0, len(thresh)):\n",
    "    correct = 0\n",
    "    total = 0\n",
    "    total_road = 0\n",
    "    conf_matrix = np.zeros([2,2])\n",
    "    with torch.no_grad():\n",
    "        mnih_model = torch.load('model_epoch_89.pt')\n",
    "        mnih_model = mnih_model.cuda()\n",
    "        for i, data in enumerate(testloader, 0):\n",
    "            inputs, labels = data\n",
    "            inputs, labels = Variable(inputs).cuda(), Variable(labels).float().cuda()\n",
    "            outputs = mnih_model(inputs)\n",
    "            t = torch.Tensor([thresh[k]]).cuda()  # threshold\n",
    "            outputs = (outputs > t).float() * 1\n",
    "            #print(\"inputs: \", inputs.data.shape, \" masks:\", labels.data.shape, \" outputs:\", outputs.data.shape)\n",
    "            labels = labels.view(-1,256)\n",
    "            #print(\"inputs: \", inputs.data.shape, \" masks:\", labels.data.shape, \" outputs:\", outputs.data.shape)\n",
    "            total_road += torch.sum(labels)\n",
    "            conf_matrix += confusion_matrix(labels.cpu().numpy().reshape(-1), outputs.cpu().numpy().reshape(-1))\n",
    "            diff = (labels - outputs).cpu().numpy()\n",
    "            correct += np.count_nonzero(diff==0)\n",
    "            total += diff.size\n",
    "\n",
    "    print('Accuracy of the network on the 396900  test images: %d %%' % (\n",
    "        100 * correct / total))\n",
    "    print(\"Threshold: \" + str(thresh[k]))\n",
    "    print(conf_matrix)\n",
    "    print(\"\\n\")"
   ]
  },
  {
   "cell_type": "code",
   "execution_count": 17,
   "metadata": {},
   "outputs": [
    {
     "name": "stdout",
     "output_type": "stream",
     "text": [
      "tensor(4764949., device='cuda:0') 101606400\n"
     ]
    }
   ],
   "source": [
    "print(total_road, total)"
   ]
  },
  {
   "cell_type": "code",
   "execution_count": 29,
   "metadata": {},
   "outputs": [
    {
     "name": "stdout",
     "output_type": "stream",
     "text": [
      "Accuracy of the network on the 396900  test images: 95 %\n",
      "[[93758942.  3082509.]\n",
      " [ 1658293.  3106656.]]\n"
     ]
    }
   ],
   "source": [
    "correct = 0\n",
    "total = 0\n",
    "total_road = 0\n",
    "road_ratio = 4.65*4764949.0/101606400.0\n",
    "conf_matrix = np.zeros([2,2])\n",
    "with torch.no_grad():\n",
    "    mnih_model = torch.load('model_epoch_89.pt')\n",
    "    mnih_model = mnih_model.cuda()\n",
    "    for i, data in enumerate(testloader, 0):\n",
    "        inputs, labels = data\n",
    "        inputs, labels = Variable(inputs).cuda(), Variable(labels).float().cuda()\n",
    "        outputs = mnih_model(inputs)\n",
    "        outputs = (outputs*torch.Tensor([road_ratio]).cuda())/(outputs*torch.Tensor([road_ratio]).cuda() + (((torch.Tensor([1]).cuda()-outputs)*torch.Tensor([1-road_ratio]).cuda())))\n",
    "        t = torch.Tensor([0.5]).cuda()  # threshold\n",
    "        outputs = (outputs > t).float() * 1\n",
    "        #print(\"inputs: \", inputs.data.shape, \" masks:\", labels.data.shape, \" outputs:\", outputs.data.shape)\n",
    "        labels = labels.view(-1,256)\n",
    "        #print(\"inputs: \", inputs.data.shape, \" masks:\", labels.data.shape, \" outputs:\", outputs.data.shape)\n",
    "        total_road += torch.sum(labels)\n",
    "        conf_matrix += confusion_matrix(labels.cpu().numpy().reshape(-1), outputs.cpu().numpy().reshape(-1))\n",
    "        diff = (labels - outputs).cpu().numpy()\n",
    "        correct += np.count_nonzero(diff==0)\n",
    "        total += diff.size\n",
    "\n",
    "print('Accuracy of the network on the 396900  test images: %d %%' % (\n",
    "    100 * correct / total))\n",
    "print(conf_matrix)"
   ]
  },
  {
   "cell_type": "code",
   "execution_count": null,
   "metadata": {},
   "outputs": [],
   "source": []
  }
 ],
 "metadata": {
  "kernelspec": {
   "display_name": "Python 3",
   "language": "python",
   "name": "python3"
  },
  "language_info": {
   "codemirror_mode": {
    "name": "ipython",
    "version": 3
   },
   "file_extension": ".py",
   "mimetype": "text/x-python",
   "name": "python",
   "nbconvert_exporter": "python",
   "pygments_lexer": "ipython3",
   "version": "3.6.6"
  }
 },
 "nbformat": 4,
 "nbformat_minor": 2
}
