{
 "cells": [
  {
   "cell_type": "code",
   "execution_count": 1,
   "metadata": {},
   "outputs": [],
   "source": [
    "import os\n",
    "import numpy as np\n",
    "from matplotlib import pyplot as plt\n",
    "from PIL import Image\n",
    "import scipy\n",
    "import scipy.misc"
   ]
  },
  {
   "cell_type": "code",
   "execution_count": 2,
   "metadata": {},
   "outputs": [],
   "source": [
    "\"../data/mass_roads\"\n",
    "def load_path(data_dir):\n",
    "    #store filenames\n",
    "    filenames = os.listdir(os.path.join(data_dir, \"sat\"))\n",
    "    filenames = sorted(filenames)\n",
    "    #store file path\n",
    "    filenames = [os.path.join(os.path.join(data_dir, \"sat\"), f) for f in filenames]\n",
    "\n",
    "    #store labels (maps)\n",
    "    labels = os.listdir(os.path.join(data_dir, \"map\"))\n",
    "    labels = sorted(labels)\n",
    "    #store label path\n",
    "    labels = [os.path.join(os.path.join(data_dir, \"map\"), l) for l in labels]\n",
    "    return filenames, labels"
   ]
  },
  {
   "cell_type": "code",
   "execution_count": 3,
   "metadata": {},
   "outputs": [],
   "source": [
    "images, labels = load_path(\"../data/mass_roads/test\")"
   ]
  },
  {
   "cell_type": "code",
   "execution_count": 53,
   "metadata": {},
   "outputs": [],
   "source": [
    "def contrast_norm(image):\n",
    "    [w,h,d] = image.shape\n",
    "    for i in range(0, d):\n",
    "        mean = np.mean(image[:,:,i])\n",
    "        std = np.std(image[:,:,i])\n",
    "        image[:,:,i] = (image[:,:,i]-mean)/std\n",
    "    return image"
   ]
  },
  {
   "cell_type": "code",
   "execution_count": 4,
   "metadata": {},
   "outputs": [],
   "source": [
    "def crop_image(image, image_array, patch_dims, stride_dims, data_type, data_set, image_type):\n",
    "    \n",
    "    idx_i = 0\n",
    "    idx_j = 0\n",
    "    idx = 0\n",
    "    width = image_array.shape[0]\n",
    "    height = image_array.shape[1]\n",
    "    \n",
    "    patch_width, patch_height = patch_dims\n",
    "    \n",
    "    stride_width, stride_height = stride_dims\n",
    "    \n",
    "    image_name = str(str(image.split('/')[-1]).split('.')[0])\n",
    "    \n",
    "    while idx_i+patch_height < height:\n",
    "        #print(idx_i/16)\n",
    "        while idx_j+patch_width < width:\n",
    "            #print(idx)\n",
    "            #print(idx_j)\n",
    "            cropped_img = image_array[idx_i:idx_i+patch_height,idx_j:idx_j+patch_width]\n",
    "            im = Image.fromarray(cropped_img, mode=image_type) # RGB\n",
    "            im.save(\"../data/mass_roads/\"+str(data_set)+\"_split/\"+str(data_type)+\"/\"+image_name+\"_\"+str(idx)+\".tiff\", \"TIFF\")\n",
    "            idx_j = idx_j + stride_width\n",
    "            idx = idx + 1\n",
    "        #print(idx_i)\n",
    "        idx_j = 0\n",
    "        idx_i = idx_i + stride_height"
   ]
  },
  {
   "cell_type": "code",
   "execution_count": 5,
   "metadata": {},
   "outputs": [],
   "source": [
    "patch_dims = [64,64]\n",
    "stride_dims = [16,16]"
   ]
  },
  {
   "cell_type": "code",
   "execution_count": 7,
   "metadata": {
    "scrolled": true
   },
   "outputs": [
    {
     "name": "stdout",
     "output_type": "stream",
     "text": [
      "0\n",
      "1\n",
      "2\n",
      "3\n",
      "4\n",
      "5\n",
      "6\n",
      "7\n",
      "8\n",
      "9\n",
      "10\n",
      "11\n",
      "12\n",
      "13\n",
      "14\n",
      "15\n",
      "16\n",
      "17\n",
      "18\n",
      "19\n",
      "20\n",
      "21\n",
      "22\n",
      "23\n",
      "24\n",
      "25\n",
      "26\n",
      "27\n",
      "28\n",
      "29\n",
      "30\n",
      "31\n",
      "32\n",
      "33\n",
      "34\n",
      "35\n",
      "36\n",
      "37\n",
      "38\n",
      "39\n",
      "40\n",
      "41\n",
      "42\n",
      "43\n",
      "44\n",
      "45\n",
      "46\n",
      "47\n",
      "48\n"
     ]
    }
   ],
   "source": [
    "for i in range(0, len(images)):\n",
    "    print(i)\n",
    "    image_pil = Image.open(images[i])\n",
    "    image_numpy = np.array(image_pil)\n",
    "    crop_image(images[i], image_numpy, patch_dims, stride_dims, 'sat', 'test', 'RGB')"
   ]
  },
  {
   "cell_type": "code",
   "execution_count": 8,
   "metadata": {},
   "outputs": [],
   "source": [
    "for i in range(0, len(labels)):\n",
    "    image_pil = Image.open(labels[i])\n",
    "    image_numpy = np.array(image_pil)\n",
    "    crop_image(labels[i], image_numpy, patch_dims, stride_dims, 'map', 'test', 'L')"
   ]
  },
  {
   "cell_type": "code",
   "execution_count": null,
   "metadata": {},
   "outputs": [],
   "source": []
  },
  {
   "cell_type": "code",
   "execution_count": 67,
   "metadata": {},
   "outputs": [],
   "source": [
    "image_test = Image.open(images[52])\n",
    "image_numpy = np.array(image_test)\n",
    "image_numpy = image_numpy.astype(float)\n",
    "mask_test = Image.open(labels[52])\n",
    "mask_numpy = np.array(mask_test)\n",
    "test = image_numpy[0:64,0:64]"
   ]
  },
  {
   "cell_type": "code",
   "execution_count": 68,
   "metadata": {
    "scrolled": false
   },
   "outputs": [
    {
     "name": "stdout",
     "output_type": "stream",
     "text": [
      "(1500, 1500, 3)\n"
     ]
    }
   ],
   "source": [
    "print(image_numpy.shape)"
   ]
  },
  {
   "cell_type": "code",
   "execution_count": 69,
   "metadata": {},
   "outputs": [],
   "source": [
    "def global_contrast_normalization(image, s, lmda, epsilon):\n",
    "    X = image\n",
    "    scipy.misc.imsave('original.jpg', X)\n",
    "    # replacement for the loop\n",
    "    X_average = np.mean(X)\n",
    "    print('Mean: ', X_average)\n",
    "    X = X - X_average\n",
    "\n",
    "    # `su` is here the mean, instead of the sum\n",
    "    contrast = np.sqrt(lmda + np.mean(X**2))\n",
    "\n",
    "    X = s * X / max(contrast, epsilon)\n",
    "    scipy.misc.imsave('result.jpg', X)\n",
    "    return X"
   ]
  },
  {
   "cell_type": "code",
   "execution_count": null,
   "metadata": {},
   "outputs": [],
   "source": [
    "test = image_numpy[0:64,0:64,:]\n",
    "test.shape"
   ]
  },
  {
   "cell_type": "code",
   "execution_count": null,
   "metadata": {},
   "outputs": [],
   "source": [
    "str(images[0].split('/'))"
   ]
  },
  {
   "cell_type": "code",
   "execution_count": null,
   "metadata": {},
   "outputs": [],
   "source": [
    "label_test = Image.open(labels[0])\n",
    "label_numpy = np.array(label_test)"
   ]
  },
  {
   "cell_type": "code",
   "execution_count": null,
   "metadata": {},
   "outputs": [],
   "source": [
    "print(label_numpy.reshape((1500,1500,1)).shape)"
   ]
  },
  {
   "cell_type": "code",
   "execution_count": 60,
   "metadata": {},
   "outputs": [],
   "source": [
    "crop_image(images[50], img_numpy2, patch_dims, stride_dims, 'sat_test', 'train', 'RGB')"
   ]
  },
  {
   "cell_type": "code",
   "execution_count": 73,
   "metadata": {},
   "outputs": [],
   "source": [
    "images_v, labels_v = load_path(\"../data/mass_roads/valid\")"
   ]
  },
  {
   "cell_type": "code",
   "execution_count": 92,
   "metadata": {},
   "outputs": [],
   "source": [
    "image_pil = Image.open(images_v[2])\n",
    "image_numpy = np.array(image_pil)\n",
    "crop_image(images_v[i], image_numpy, patch_dims, stride_dims, 'sat', 'valid', 'RGB')"
   ]
  },
  {
   "cell_type": "code",
   "execution_count": 93,
   "metadata": {},
   "outputs": [],
   "source": [
    "image_pil = Image.open(labels_v[2])\n",
    "image_numpy = np.array(image_pil)\n",
    "crop_image(labels_v[i], image_numpy, patch_dims, stride_dims, 'map', 'valid', 'L')"
   ]
  },
  {
   "cell_type": "markdown",
   "metadata": {},
   "source": [
    "### check if ratio is rubbish, then discard, construct histogram counting total amount of while pixels"
   ]
  },
  {
   "cell_type": "code",
   "execution_count": null,
   "metadata": {},
   "outputs": [],
   "source": []
  }
 ],
 "metadata": {
  "kernelspec": {
   "display_name": "Python 3",
   "language": "python",
   "name": "python3"
  },
  "language_info": {
   "codemirror_mode": {
    "name": "ipython",
    "version": 3
   },
   "file_extension": ".py",
   "mimetype": "text/x-python",
   "name": "python",
   "nbconvert_exporter": "python",
   "pygments_lexer": "ipython3",
   "version": "3.6.6"
  }
 },
 "nbformat": 4,
 "nbformat_minor": 2
}
